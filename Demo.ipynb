{
 "cells": [
  {
   "cell_type": "markdown",
   "id": "80c37bda",
   "metadata": {},
   "source": [
    "# NetBox Dataset Demo"
   ]
  },
  {
   "cell_type": "markdown",
   "id": "11c7731e",
   "metadata": {},
   "source": [
    "## Analysis "
   ]
  },
  {
   "cell_type": "markdown",
   "id": "486006b7",
   "metadata": {},
   "source": [
    "#### Pandas library is extensively used for data analysis. Some if it's features include indexing, grouping, processing, etc.\n",
    " "
   ]
  },
  {
   "cell_type": "code",
   "execution_count": null,
   "id": "6b8a4dc7",
   "metadata": {},
   "outputs": [],
   "source": [
    "pip install pandas\n"
   ]
  },
  {
   "cell_type": "code",
   "execution_count": null,
   "id": "94b86d13",
   "metadata": {},
   "outputs": [],
   "source": [
    "import pandas as pd"
   ]
  },
  {
   "cell_type": "markdown",
   "id": "6e2e0e1f",
   "metadata": {},
   "source": [
    "\n",
    "\n",
    "<font face=\"courier\" size=\"4\" color=\"red\">1. Load the CSV file</font>\n",
    "\n",
    "<font face=\"courier\" size=\"4\">Pandas converts CSV into DataFrame, which is a tabular-like datastructure with rows and columns</font>\n"
   ]
  },
  {
   "cell_type": "code",
   "execution_count": null,
   "id": "a9613d01",
   "metadata": {},
   "outputs": [],
   "source": [
    "df = pd.read_csv('Downloads/netbox_devices.csv')"
   ]
  },
  {
   "cell_type": "code",
   "execution_count": null,
   "id": "e9e044b3",
   "metadata": {},
   "outputs": [],
   "source": [
    "df"
   ]
  },
  {
   "cell_type": "markdown",
   "id": "4b0752f3",
   "metadata": {},
   "source": [
    "<font face=\"courier\" size=\"4\" color=\"red\">2. How many total rows & columns?</font>"
   ]
  },
  {
   "cell_type": "code",
   "execution_count": null,
   "id": "3489fbf0",
   "metadata": {},
   "outputs": [],
   "source": [
    "df.shape"
   ]
  },
  {
   "cell_type": "markdown",
   "id": "eb18ea04",
   "metadata": {},
   "source": [
    "<font face=\"courier\" size=\"4\" color=\"red\">3. What is the total count of each device role? e.g Routers, Switches, Patch Panels?</font>"
   ]
  },
  {
   "cell_type": "code",
   "execution_count": null,
   "id": "a8c94609",
   "metadata": {},
   "outputs": [],
   "source": [
    "df['Role'].value_counts()"
   ]
  },
  {
   "cell_type": "markdown",
   "id": "632840a5",
   "metadata": {},
   "source": [
    "### Boolean indexing. \n",
    "<font face=\"courier\" size=\"4\">This is helpful if you have a numerical column.</font>\n"
   ]
  },
  {
   "cell_type": "markdown",
   "id": "b5f8037a",
   "metadata": {},
   "source": [
    "<font face=\"courier\" size=\"4\" color=\"red\">4. Display a table with only Routers</font>"
   ]
  },
  {
   "cell_type": "code",
   "execution_count": null,
   "id": "b9de2bb0",
   "metadata": {},
   "outputs": [],
   "source": [
    "df[df['Role'] == 'Router']"
   ]
  },
  {
   "cell_type": "markdown",
   "id": "4cdd01c2",
   "metadata": {},
   "source": [
    "<font face=\"courier\" size=\"4\" color=\"red\">Anyone wants to guess what happens if I just run this without df[]? </font>"
   ]
  },
  {
   "cell_type": "code",
   "execution_count": null,
   "id": "2e085a0b",
   "metadata": {},
   "outputs": [],
   "source": [
    "df['Role'] == 'Router'"
   ]
  },
  {
   "cell_type": "markdown",
   "id": "3c07e48f",
   "metadata": {},
   "source": [
    "<font face=\"courier\" size=\"4\" color=\"red\">5. Display a table with all Firewalls that are in 'Planned' status.</font>"
   ]
  },
  {
   "cell_type": "code",
   "execution_count": null,
   "id": "1b1aa444",
   "metadata": {
    "scrolled": false
   },
   "outputs": [],
   "source": [
    "df[(df['Role'] == 'Firewall') & (df['Status'] == 'Planned')]"
   ]
  },
  {
   "cell_type": "markdown",
   "id": "674acc60",
   "metadata": {},
   "source": [
    "<font face=\"courier\" size=\"4\" color=\"red\">6. How many unique models of ISR's are there?</font>"
   ]
  },
  {
   "cell_type": "code",
   "execution_count": null,
   "id": "08863fa9",
   "metadata": {
    "scrolled": true
   },
   "outputs": [],
   "source": [
    "df[df['Type'].str.contains('ISR')]['Type'].value_counts()"
   ]
  },
  {
   "cell_type": "markdown",
   "id": "4617e7c1",
   "metadata": {},
   "source": [
    "### Grouping\n",
    "<font face=\"courier\" size=\"4\" color=\"red\">7. Find out the number of devices in each 'Status' of all the Roles.</font>"
   ]
  },
  {
   "cell_type": "code",
   "execution_count": null,
   "id": "b4ade423",
   "metadata": {},
   "outputs": [],
   "source": [
    "#Within each Role, we are grouping the status\n",
    "df.groupby('Role')['Status'].value_counts()"
   ]
  },
  {
   "cell_type": "markdown",
   "id": "a2daafeb",
   "metadata": {},
   "source": [
    "## Visualizations"
   ]
  },
  {
   "cell_type": "markdown",
   "id": "b61567fc",
   "metadata": {},
   "source": [
    "### Pandas is built on top of a core visualization library called Matplotlib."
   ]
  },
  {
   "cell_type": "code",
   "execution_count": null,
   "id": "0764b4e7",
   "metadata": {},
   "outputs": [],
   "source": [
    "import matplotlib.pyplot as plt "
   ]
  },
  {
   "cell_type": "markdown",
   "id": "9170c4a3",
   "metadata": {},
   "source": [
    "<font face=\"courier\" size=\"4\" color=\"red\">1. Bar Graph: Count of Device Types </font>"
   ]
  },
  {
   "cell_type": "code",
   "execution_count": null,
   "id": "d37387ea",
   "metadata": {},
   "outputs": [],
   "source": [
    "device_counts =df['Type'].value_counts()"
   ]
  },
  {
   "cell_type": "code",
   "execution_count": null,
   "id": "487027f7",
   "metadata": {},
   "outputs": [],
   "source": [
    "plt.bar(device_counts.index, device_counts.values)"
   ]
  },
  {
   "cell_type": "code",
   "execution_count": null,
   "id": "aff26f92",
   "metadata": {},
   "outputs": [],
   "source": [
    "plt.bar(device_counts.index, device_counts.values)\n",
    "plt.xticks(rotation=90)\n",
    "plt.xlabel('Device Type')\n",
    "plt.ylabel('Count')\n",
    "plt.title('Device Types')\n",
    "plt.show()"
   ]
  },
  {
   "cell_type": "markdown",
   "id": "bf7af71c",
   "metadata": {},
   "source": [
    "<font face=\"courier\" size=\"4\" color=\"red\">2. Unstacked Bar Graph: Status of Device Roles </font>"
   ]
  },
  {
   "cell_type": "code",
   "execution_count": null,
   "id": "4c02f3ab",
   "metadata": {},
   "outputs": [],
   "source": [
    "role_status = df.groupby('Role')['Status'].value_counts().unstack()\n",
    "unstacked_bar = role_status.plot(kind='bar')\n",
    "\n",
    "plt.title(\"Device Status\")\n"
   ]
  },
  {
   "cell_type": "markdown",
   "id": "6487c094",
   "metadata": {},
   "source": [
    "<font face=\"courier\" size=\"4\" color=\"red\">3. Manufacturers</font>"
   ]
  },
  {
   "cell_type": "code",
   "execution_count": null,
   "id": "34036823",
   "metadata": {},
   "outputs": [],
   "source": [
    "manufacturer_count = df['Manufacturer'].value_counts()\n",
    "\n",
    "#Create a pie chart\n",
    "plt.pie(manufacturer_count.values, labels=manufacturer_count.index)\n",
    "plt.show()"
   ]
  }
 ],
 "metadata": {
  "kernelspec": {
   "display_name": "Python 3 (ipykernel)",
   "language": "python",
   "name": "python3"
  },
  "language_info": {
   "codemirror_mode": {
    "name": "ipython",
    "version": 3
   },
   "file_extension": ".py",
   "mimetype": "text/x-python",
   "name": "python",
   "nbconvert_exporter": "python",
   "pygments_lexer": "ipython3",
   "version": "3.11.2"
  }
 },
 "nbformat": 4,
 "nbformat_minor": 5
}
